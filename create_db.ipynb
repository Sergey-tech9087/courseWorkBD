{
 "cells": [
  {
   "cell_type": "code",
   "execution_count": 4,
   "metadata": {},
   "outputs": [],
   "source": [
    "import sqlite3\n",
    "import pickledb\n",
    "from tinydb import TinyDB, Query"
   ]
  },
  {
   "cell_type": "code",
   "execution_count": 5,
   "metadata": {},
   "outputs": [],
   "source": [
    "conn = sqlite3.connect('database.db')\n",
    "c = conn.cursor()"
   ]
  },
  {
   "cell_type": "code",
   "execution_count": 6,
   "metadata": {},
   "outputs": [],
   "source": [
    "# Виды продукции\n",
    "c.execute('''create table Product_type(ID INTEGER NOT NULL PRIMARY KEY, Name varchar(100) not null)''')\n",
    "\n",
    "# Поставщик\n",
    "c.execute('''create table Supplier(ID INTEGER NOT NULL PRIMARY KEY, Name varchar(100) not null)''')\n",
    "\n",
    "# Товар\n",
    "c.execute('''create table Products(ID INTEGER NOT NULL PRIMARY KEY, Name varchar(100) not null, ID_Product_type int references Product_type(ID), ID_Supplier int references Supplier(ID))''')\n",
    "\n",
    "# Изменения цен\n",
    "c.execute('''create table Price_changes(ID INTEGER NOT NULL PRIMARY KEY, ID_Products int references Products(ID), Date_chages date not null, New_price decimal not null)''')\n",
    "\n",
    "# Договор\n",
    "c.execute('''create table Documents(ID INTEGER NOT NULL PRIMARY KEY, Name varchar(100) not null, Date date not null)''')\n",
    "\n",
    "# Документ\n",
    "c.execute('''create table Contract(ID INTEGER NOT NULL PRIMARY KEY, Id_Employee int references Employee(ID), Id_Supplier int references Supplier(ID))''')\n",
    "\n",
    "# Приход товара\n",
    "c.execute('''create table Arrival_products(ID INTEGER NOT NULL PRIMARY KEY, Date_arrival int not null, Id_Supplier int references Supplier(ID), Id_Contract int references Contract(ID))''')\n",
    "\n",
    "# Дополнительный приход\n",
    "c.execute('''create table Additional_parish(ID INTEGER NOT NULL PRIMARY KEY, Product_volume int not null, Price_unit decimal not null, Id_Arrival_products int references Arrival_products(ID), Id_Products int references Products(ID))''')\n",
    "\n",
    "# Расход\n",
    "c.execute('''create table Expenditure(ID INTEGER NOT NULL PRIMARY KEY, Date_expenses date not null, Id_Supplier int references Supplier(ID), Id_Contract int references Contract(ID))''')\n",
    "\n",
    "# Дополнительный расход\n",
    "c.execute('''create table Additional_expense(ID INTEGER NOT NULL PRIMARY KEY, Price_unit decimal not null, Id_Expenditure int references Expenditure(ID), Id_Products int references Products(ID))''')\n",
    "\n",
    "# Склад\n",
    "c.execute('''create table Warehouse(ID INTEGER NOT NULL PRIMARY KEY, Id_arrival_products int references Arrival_products(ID), Id_Expenditure int references Expenditure(ID))''')\n",
    "\n",
    "# Запись в счете\n",
    "c.execute('''create table Account_entry(ID INTEGER NOT NULL PRIMARY KEY, Volume int not null, Id_Products int references Products(ID), Id_Price_changes int references Price_changes(ID))''')\n",
    "\n",
    "# Передача со склада в кафе\n",
    "c.execute('''create table Transfer_from_warehouse_to_cafe(Id_Cafe int references Cafe(ID), Id_Required_purchase int references Required_purchase(ID))''')\n",
    "\n",
    "# Требуемая закупка\n",
    "c.execute('''create table Required_purchase(ID INTEGER NOT NULL PRIMARY KEY, Required_volume int not null, Id_Cafe int references Cafe(ID), Id_Products int references Products(ID))''')\n",
    "\n",
    "# Кафе\n",
    "c.execute('''create table Cafe(ID INTEGER NOT NULL PRIMARY KEY, Address varchar(250) not null, Number int not null, Budget decimal not null, Id_Warehouse int references Warehouse(ID))''')\n",
    "\n",
    "# Сотрудники\n",
    "c.execute('''create table Employee(ID INTEGER NOT NULL PRIMARY KEY, Id_Post int references Post(ID), Name varchar(100) not null, Number int not null, Id_Cafe int references Cafe(ID))''')\n",
    "\n",
    "# Должность\n",
    "c.execute('''create table Post(ID INTEGER NOT NULL PRIMARY KEY, Name varchar(100) not null, Responsibilities varchar(250) not null, Requirements varchar(250) not null, Salary decimal not null)''')\n",
    "\n",
    "\n",
    "conn.commit()"
   ]
  },
  {
   "cell_type": "code",
   "execution_count": 5,
   "metadata": {},
   "outputs": [],
   "source": [
    "conn.close()"
   ]
  },
  {
   "cell_type": "code",
   "execution_count": null,
   "metadata": {},
   "outputs": [],
   "source": []
  }
 ],
 "metadata": {
  "kernelspec": {
   "display_name": "Python 3",
   "language": "python",
   "name": "python3"
  },
  "language_info": {
   "codemirror_mode": {
    "name": "ipython",
    "version": 3
   },
   "file_extension": ".py",
   "mimetype": "text/x-python",
   "name": "python",
   "nbconvert_exporter": "python",
   "pygments_lexer": "ipython3",
   "version": "3.11.2"
  },
  "orig_nbformat": 4
 },
 "nbformat": 4,
 "nbformat_minor": 2
}
