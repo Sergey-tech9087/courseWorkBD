{
 "cells": [
  {
   "cell_type": "code",
   "execution_count": 251,
   "metadata": {},
   "outputs": [],
   "source": [
    "import sqlite3\n",
    "import pickledb\n",
    "from tinydb import TinyDB, Query"
   ]
  },
  {
   "cell_type": "code",
   "execution_count": 252,
   "metadata": {},
   "outputs": [],
   "source": [
    "conn = sqlite3.connect('database.db')\n",
    "c = conn.cursor()"
   ]
  },
  {
   "cell_type": "code",
   "execution_count": 253,
   "metadata": {},
   "outputs": [],
   "source": [
    "# Виды продукции\n",
    "c.execute('''create table Product_type(ID INTEGER NOT NULL PRIMARY KEY, Name varchar(100) not null)''')\n",
    "\n",
    "# Поставщик\n",
    "c.execute('''create table Supplier(ID INTEGER NOT NULL PRIMARY KEY, Name varchar(100) not null)''')\n",
    "\n",
    "# Товар\n",
    "c.execute('''create table Products(ID INTEGER NOT NULL PRIMARY KEY, Name varchar(100) not null, ID_Product_type int references Product_type(ID), ID_Supplier int references Supplier(ID))''')\n",
    "\n",
    "# Изменения цен\n",
    "c.execute('''create table Price_changes(ID INTEGER NOT NULL PRIMARY KEY, ID_Products int references Products(ID), Date_changes date not null, New_price decimal not null)''')\n",
    "\n",
    "# Договор\n",
    "c.execute('''create table Documents(ID INTEGER NOT NULL PRIMARY KEY, Name varchar(100) not null, Date date not null)''')\n",
    "\n",
    "# Документ\n",
    "c.execute('''create table Contract(ID INTEGER NOT NULL PRIMARY KEY, Id_Document int references Documents(ID), Id_Supplier int references Supplier(ID))''')\n",
    "\n",
    "# Запись в счете\n",
    "c.execute('''create table Cafe_expenses(ID INTEGER NOT NULL PRIMARY KEY, Id_Products int references Products(ID), Count int, Expenses int)''')\n",
    "\n",
    "# Приход товара\n",
    "c.execute('''create table Arrival_products(ID INTEGER NOT NULL PRIMARY KEY, Date_arrival int not null, Id_Supplier int references Supplier(ID), Id_Product int references Products(ID), Id_Contract int references Contract(ID), Id_Warehouse int references Warehouse(ID), Count int)''')\n",
    "\n",
    "# Расход\n",
    "c.execute('''create table Expenditure(ID INTEGER NOT NULL PRIMARY KEY, Id_Required_purchase int references Required_purchase(ID), Date_expenses date not null, Id_Warehouse int references Warehouse(ID))''')\n",
    "\n",
    "# Склад\n",
    "c.execute('''create table Warehouse(ID INTEGER NOT NULL PRIMARY KEY, Address varchar(100) not null)''')\n",
    "\n",
    "# Кафе\n",
    "c.execute('''create table Cafe(ID INTEGER NOT NULL PRIMARY KEY, Address varchar(250) not null, Number int not null, Id_Warehouse int references Warehouse(ID))''')\n",
    "\n",
    "# Требуемая закупка\n",
    "c.execute('''create table Required_purchase(ID INTEGER NOT NULL PRIMARY KEY, Id_Cafe int references Cafe(ID), Id_Products int references Products(ID), Count int)''')\n",
    "\n",
    "# Сотрудники\n",
    "c.execute('''create table Employee(ID INTEGER NOT NULL PRIMARY KEY, Id_Post int references Post(ID), Name varchar(100) not null, Number int not null, Id_Cafe int references Cafe(ID))''')\n",
    "\n",
    "# Должность\n",
    "c.execute('''create table Post(ID INTEGER NOT NULL PRIMARY KEY, Name varchar(100) not null, Responsibilities varchar(250) not null, Requirements varchar(250) not null, Salary decimal not null)''')\n",
    "\n",
    "# Продукты на складах\n",
    "c.execute('''create table Warehouse_prod(Id_Warehouse int references Warehouse(ID), Id_Product int references Product(ID), Count int)''')\n",
    "\n",
    "\n",
    "conn.commit()"
   ]
  },
  {
   "cell_type": "code",
   "execution_count": 254,
   "metadata": {},
   "outputs": [
    {
     "data": {
      "text/plain": [
       "<sqlite3.Cursor at 0x1186b9930c0>"
      ]
     },
     "execution_count": 254,
     "metadata": {},
     "output_type": "execute_result"
    }
   ],
   "source": [
    "data1 = (\n",
    "    1,\n",
    "    'Молочка'\n",
    ")\n",
    "data2 = (\n",
    "    2,\n",
    "    'Овощи'\n",
    ")\n",
    "c.execute('INSERT INTO Product_type (ID, Name) VALUES (?,?)', data1)\n",
    "c.execute('INSERT INTO Product_type (ID, Name) VALUES (?,?)', data2)"
   ]
  },
  {
   "cell_type": "code",
   "execution_count": 255,
   "metadata": {},
   "outputs": [
    {
     "data": {
      "text/plain": [
       "<sqlite3.Cursor at 0x1186b9930c0>"
      ]
     },
     "execution_count": 255,
     "metadata": {},
     "output_type": "execute_result"
    }
   ],
   "source": [
    "data3 = (\n",
    "    1,\n",
    "    'ООО Лучшие поставки'\n",
    ")\n",
    "data4 = (\n",
    "    2,\n",
    "    'АО Самые лучшие поставки'\n",
    ")\n",
    "c.execute('INSERT INTO Supplier (ID, Name) VALUES (?,?)', data3)\n",
    "c.execute('INSERT INTO Supplier (ID, Name) VALUES (?,?)', data4)"
   ]
  },
  {
   "cell_type": "code",
   "execution_count": 256,
   "metadata": {},
   "outputs": [
    {
     "data": {
      "text/plain": [
       "<sqlite3.Cursor at 0x1186b9930c0>"
      ]
     },
     "execution_count": 256,
     "metadata": {},
     "output_type": "execute_result"
    }
   ],
   "source": [
    "data5 = (\n",
    "    1,\n",
    "    'Молоко 2,5%',\n",
    "    1,\n",
    "    1\n",
    ")\n",
    "data6 = (\n",
    "    2,\n",
    "    'Помидоры молдавские',\n",
    "    2,\n",
    "    2\n",
    ")\n",
    "c.execute('INSERT INTO Products (ID, Name, ID_Product_type, ID_Supplier) VALUES (?,?,?,?)', data5)\n",
    "c.execute('INSERT INTO Products (ID, Name, ID_Product_type, ID_Supplier) VALUES (?,?,?,?)', data6)"
   ]
  },
  {
   "cell_type": "code",
   "execution_count": 257,
   "metadata": {},
   "outputs": [
    {
     "data": {
      "text/plain": [
       "<sqlite3.Cursor at 0x1186b9930c0>"
      ]
     },
     "execution_count": 257,
     "metadata": {},
     "output_type": "execute_result"
    }
   ],
   "source": [
    "data7 = (\n",
    "    1,\n",
    "    1,\n",
    "    '2001-01-01',\n",
    "    100.014\n",
    ")\n",
    "data8 = (\n",
    "    2,\n",
    "    2,\n",
    "    '2002-02-02',\n",
    "    200.015\n",
    ")\n",
    "c.execute('INSERT INTO Price_changes (ID, ID_Products, Date_changes, New_price) VALUES (?,?,?,?)', data7)\n",
    "c.execute('INSERT INTO Price_changes (ID, ID_Products, Date_changes, New_price) VALUES (?,?,?,?)', data8)"
   ]
  },
  {
   "cell_type": "code",
   "execution_count": 258,
   "metadata": {},
   "outputs": [
    {
     "data": {
      "text/plain": [
       "<sqlite3.Cursor at 0x1186b9930c0>"
      ]
     },
     "execution_count": 258,
     "metadata": {},
     "output_type": "execute_result"
    }
   ],
   "source": [
    "data9 = (\n",
    "    1,\n",
    "    'Договор об изменении цен на молоко',\n",
    "    '2002-04-07'\n",
    ")\n",
    "data10 = (\n",
    "    2,\n",
    "    'Договор об изменении цен на помидоры',\n",
    "    '2002-06-05'\n",
    ")\n",
    "c.execute('INSERT INTO Documents (ID, Name, Date) VALUES (?,?,?)', data9)\n",
    "c.execute('INSERT INTO Documents (ID, Name, Date) VALUES (?,?,?)', data10)"
   ]
  },
  {
   "cell_type": "code",
   "execution_count": 259,
   "metadata": {},
   "outputs": [
    {
     "data": {
      "text/plain": [
       "<sqlite3.Cursor at 0x1186b9930c0>"
      ]
     },
     "execution_count": 259,
     "metadata": {},
     "output_type": "execute_result"
    }
   ],
   "source": [
    "data11 = (\n",
    "    1,\n",
    "    'Администратор',\n",
    "    'Управлять кафе',\n",
    "    'Знать всё о сфере кафе',\n",
    "    100000\n",
    ")\n",
    "data12 = (\n",
    "    2,\n",
    "    'Официант',\n",
    "    'Разносить еду',\n",
    "    'Знать немного о сфере кафе',\n",
    "    20000\n",
    ")\n",
    "c.execute('INSERT INTO Post (ID, Name, Responsibilities, Requirements, Salary) VALUES (?,?,?,?,?)', data11)\n",
    "c.execute('INSERT INTO Post (ID, Name, Responsibilities, Requirements, Salary) VALUES (?,?,?,?,?)', data12)"
   ]
  },
  {
   "cell_type": "code",
   "execution_count": 260,
   "metadata": {},
   "outputs": [
    {
     "data": {
      "text/plain": [
       "<sqlite3.Cursor at 0x1186b9930c0>"
      ]
     },
     "execution_count": 260,
     "metadata": {},
     "output_type": "execute_result"
    }
   ],
   "source": [
    "data13 = (\n",
    "    1,\n",
    "    1,\n",
    "    'Иванов',\n",
    "    88005553535,\n",
    "    1\n",
    ")\n",
    "data14 = (\n",
    "    2,\n",
    "    2,\n",
    "    'Петров',\n",
    "    88005553533,\n",
    "    1\n",
    ")\n",
    "c.execute('INSERT INTO Employee (ID, Id_Post, Name, Number, Id_Cafe) VALUES (?,?,?,?,?)', data13)\n",
    "c.execute('INSERT INTO Employee (ID, Id_Post, Name, Number, Id_Cafe) VALUES (?,?,?,?,?)', data14)"
   ]
  },
  {
   "cell_type": "code",
   "execution_count": 261,
   "metadata": {},
   "outputs": [
    {
     "data": {
      "text/plain": [
       "<sqlite3.Cursor at 0x1186b9930c0>"
      ]
     },
     "execution_count": 261,
     "metadata": {},
     "output_type": "execute_result"
    }
   ],
   "source": [
    "data15 = (\n",
    "    1,\n",
    "    'Улица Пушкина дом 18',\n",
    "    89999999999,\n",
    "    1\n",
    ")\n",
    "data16 = (\n",
    "    2,\n",
    "    'Улица Лермонтова дом 10',\n",
    "    89999999999,\n",
    "    2\n",
    ")\n",
    "c.execute('INSERT INTO Cafe (ID, Address, Number, Id_Warehouse) VALUES (?,?,?,?)', data15)\n",
    "c.execute('INSERT INTO Cafe (ID, Address, Number, Id_Warehouse) VALUES (?,?,?,?)', data16)"
   ]
  },
  {
   "cell_type": "code",
   "execution_count": 262,
   "metadata": {},
   "outputs": [
    {
     "data": {
      "text/plain": [
       "<sqlite3.Cursor at 0x1186b9930c0>"
      ]
     },
     "execution_count": 262,
     "metadata": {},
     "output_type": "execute_result"
    }
   ],
   "source": [
    "data17 = (\n",
    "    1,\n",
    "    1,\n",
    "    2,\n",
    "    3000\n",
    ")\n",
    "data18 = (\n",
    "    2,\n",
    "    2,\n",
    "    1,\n",
    "    2000\n",
    ")\n",
    "c.execute('INSERT INTO Required_purchase (ID, Id_Cafe, Id_Products, Count) VALUES (?,?,?,?)', data17)\n",
    "c.execute('INSERT INTO Required_purchase (ID, Id_Cafe, Id_Products, Count) VALUES (?,?,?,?)', data18)"
   ]
  },
  {
   "cell_type": "code",
   "execution_count": 264,
   "metadata": {},
   "outputs": [
    {
     "data": {
      "text/plain": [
       "<sqlite3.Cursor at 0x1186b9930c0>"
      ]
     },
     "execution_count": 264,
     "metadata": {},
     "output_type": "execute_result"
    }
   ],
   "source": [
    "data23 = (\n",
    "    1,\n",
    "    \"Улица Ленина, 23\"\n",
    ")\n",
    "data24 = (\n",
    "    2,\n",
    "    \"Улица 1 мая, 33\"\n",
    ")\n",
    "c.execute('INSERT INTO Warehouse (ID, Address) VALUES (?,?)', data23)\n",
    "c.execute('INSERT INTO Warehouse (ID, Address) VALUES (?,?)', data24)"
   ]
  },
  {
   "cell_type": "code",
   "execution_count": 265,
   "metadata": {},
   "outputs": [
    {
     "data": {
      "text/plain": [
       "<sqlite3.Cursor at 0x1186b9930c0>"
      ]
     },
     "execution_count": 265,
     "metadata": {},
     "output_type": "execute_result"
    }
   ],
   "source": [
    "data23_1 = (\n",
    "    1,\n",
    "    2,\n",
    "    30000\n",
    ")\n",
    "data23_2 = (\n",
    "    2,\n",
    "    1,\n",
    "    10000\n",
    ")\n",
    "c.execute('INSERT INTO Warehouse_prod (Id_Warehouse, Id_Product, Count) VALUES (?,?,?)', data23_1)\n",
    "c.execute('INSERT INTO Warehouse_prod (Id_Warehouse, Id_Product, Count) VALUES (?,?,?)', data23_2)"
   ]
  },
  {
   "cell_type": "code",
   "execution_count": 266,
   "metadata": {},
   "outputs": [
    {
     "data": {
      "text/plain": [
       "<sqlite3.Cursor at 0x1186b9930c0>"
      ]
     },
     "execution_count": 266,
     "metadata": {},
     "output_type": "execute_result"
    }
   ],
   "source": [
    "data25 = (\n",
    "    1,\n",
    "    1,\n",
    "    '2001-08-05',\n",
    "    1\n",
    ")\n",
    "data26 = (\n",
    "    2,\n",
    "    2,\n",
    "    '2001-08-05',\n",
    "    2\n",
    ")\n",
    "c.execute('INSERT INTO Expenditure(ID, Id_Required_purchase, Date_expenses, Id_Warehouse) VALUES (?,?,?,?)', data25)\n",
    "c.execute('INSERT INTO Expenditure(ID, Id_Required_purchase, Date_expenses, Id_Warehouse) VALUES (?,?,?,?)', data26)"
   ]
  },
  {
   "cell_type": "code",
   "execution_count": 267,
   "metadata": {},
   "outputs": [
    {
     "data": {
      "text/plain": [
       "<sqlite3.Cursor at 0x1186b9930c0>"
      ]
     },
     "execution_count": 267,
     "metadata": {},
     "output_type": "execute_result"
    }
   ],
   "source": [
    "data29 = (\n",
    "    1,\n",
    "    '2001-01-12',\n",
    "    1,\n",
    "    1,\n",
    "    1,\n",
    "    2,\n",
    "    20000\n",
    ")\n",
    "data30 = (\n",
    "    2,\n",
    "    '2001-02-12',\n",
    "    2,\n",
    "    1,\n",
    "    2,\n",
    "    1,\n",
    "    10000\n",
    ")\n",
    "c.execute('INSERT INTO Arrival_products(ID, Date_arrival, Id_Supplier, Id_Product, Id_Contract, Id_Warehouse, Count) VALUES (?,?,?,?,?,?,?)', data29)\n",
    "c.execute('INSERT INTO Arrival_products(ID, Date_arrival, Id_Supplier, Id_Product, Id_Contract, Id_Warehouse, Count)  VALUES (?,?,?,?,?,?,?)', data30)"
   ]
  },
  {
   "cell_type": "code",
   "execution_count": 268,
   "metadata": {},
   "outputs": [
    {
     "data": {
      "text/plain": [
       "<sqlite3.Cursor at 0x1186b9930c0>"
      ]
     },
     "execution_count": 268,
     "metadata": {},
     "output_type": "execute_result"
    }
   ],
   "source": [
    "data33 = (\n",
    "    1,\n",
    "    1,\n",
    "    1\n",
    ")\n",
    "data34 = (\n",
    "    2,\n",
    "    2,\n",
    "    2\n",
    ")\n",
    "c.execute('INSERT INTO Contract(ID, Id_Document, Id_Supplier) VALUES (?,?,?)', data33)\n",
    "c.execute('INSERT INTO Contract(ID, Id_Document, Id_Supplier) VALUES (?,?,?)', data34)"
   ]
  },
  {
   "cell_type": "code",
   "execution_count": 269,
   "metadata": {},
   "outputs": [],
   "source": [
    "conn.commit()\n",
    "\n",
    "conn.close()"
   ]
  }
 ],
 "metadata": {
  "kernelspec": {
   "display_name": "Python 3",
   "language": "python",
   "name": "python3"
  },
  "language_info": {
   "codemirror_mode": {
    "name": "ipython",
    "version": 3
   },
   "file_extension": ".py",
   "mimetype": "text/x-python",
   "name": "python",
   "nbconvert_exporter": "python",
   "pygments_lexer": "ipython3",
   "version": "3.11.2"
  },
  "orig_nbformat": 4
 },
 "nbformat": 4,
 "nbformat_minor": 2
}
